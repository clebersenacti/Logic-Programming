{
  "nbformat": 4,
  "nbformat_minor": 0,
  "metadata": {
    "colab": {
      "provenance": [],
      "authorship_tag": "ABX9TyO7YrPEOj805BZRWE99GbtS",
      "include_colab_link": true
    },
    "kernelspec": {
      "name": "python3",
      "display_name": "Python 3"
    },
    "language_info": {
      "name": "python"
    }
  },
  "cells": [
    {
      "cell_type": "markdown",
      "metadata": {
        "id": "view-in-github",
        "colab_type": "text"
      },
      "source": [
        "<a href=\"https://colab.research.google.com/github/clebersenacti/Logic-Programming/blob/main/media%20notas.ipynb\" target=\"_parent\"><img src=\"https://colab.research.google.com/assets/colab-badge.svg\" alt=\"Open In Colab\"/></a>"
      ]
    },
    {
      "cell_type": "code",
      "execution_count": null,
      "metadata": {
        "id": "vIfa190UmG6t"
      },
      "outputs": [],
      "source": [
        "# Desenvolva um algoritmo em python para um programa que permita com que o usuário insira dois números decimais.\n",
        "# O programa devera então mostrar (conforme exemplo):\n",
        "# A média dos números digitados.\n",
        "# Exemplo:\n",
        "# Olá usuário, digite o número 1: 10\n",
        "# Digite o número 2: 5\n",
        "# Portanto, a média dos números digitados é: 7."
      ]
    },
    {
      "cell_type": "code",
      "source": [
        "N1=int(input(\"olá usuario, digite a nota da primeira prova!....  \"))\n",
        "N2=int(input(\"olá usuario, digite a nota da segunda prova !....  \"))\n",
        "N3=int(input(\"olá usuario, digite a nota da terceira prova !....  \"))\n",
        "N4=int(input(\"olá usuario, digite a nota da quarta prova !....  \"))\n",
        "N5=int(input(\"olá usuario, digite a nota da quinta prova !....  \"))"
      ],
      "metadata": {
        "colab": {
          "base_uri": "https://localhost:8080/"
        },
        "id": "Z2RomZPGmVC-",
        "outputId": "92180808-3fb1-4f92-b067-81d98b426f2f"
      },
      "execution_count": 27,
      "outputs": [
        {
          "name": "stdout",
          "output_type": "stream",
          "text": [
            "olá usuario, digite a nota da primeira prova!....  8\n",
            "olá usuario, digite a nota da segunda prova !....  6\n",
            "olá usuario, digite a nota da terceira prova !....  9\n",
            "olá usuario, digite a nota da quarta prova !....  7\n",
            "olá usuario, digite a nota da quinta prova !....  8\n"
          ]
        }
      ]
    },
    {
      "cell_type": "code",
      "source": [
        "MEDIA=(N1+N2+N3+N4+N5)/5\n",
        "\n",
        "print(f\"A SUA NOTA MEDIA DO SEMESTRE É  {MEDIA}\")"
      ],
      "metadata": {
        "colab": {
          "base_uri": "https://localhost:8080/"
        },
        "id": "WO5PajdLqlbk",
        "outputId": "d93dd422-8e0e-4428-8320-3ea85dce29f1"
      },
      "execution_count": 29,
      "outputs": [
        {
          "output_type": "stream",
          "name": "stdout",
          "text": [
            "A SUA NOTA MEDIA DO SEMESTRE É  7.6\n"
          ]
        }
      ]
    },
    {
      "cell_type": "code",
      "source": [],
      "metadata": {
        "id": "10kJVaZRrjR6"
      },
      "execution_count": null,
      "outputs": []
    }
  ]
}