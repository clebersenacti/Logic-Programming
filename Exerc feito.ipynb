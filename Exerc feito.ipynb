{
  "cells": [
    {
      "cell_type": "markdown",
      "metadata": {
        "id": "view-in-github",
        "colab_type": "text"
      },
      "source": [
        "<a href=\"https://colab.research.google.com/github/clebersenacti/Logic-Programming/blob/main/Exerc%20feito.ipynb\" target=\"_parent\"><img src=\"https://colab.research.google.com/assets/colab-badge.svg\" alt=\"Open In Colab\"/></a>"
      ]
    },
    {
      "cell_type": "markdown",
      "id": "5d92bfda",
      "metadata": {
        "id": "5d92bfda"
      },
      "source": [
        "<div style=\"text-align: center\"> <h2> Exercícios </h2> </div>"
      ]
    },
    {
      "cell_type": "markdown",
      "id": "1af63e35",
      "metadata": {
        "id": "1af63e35"
      },
      "source": [
        "<div style=\"text-align: center\"> <h2> Responda abaixo os tipos de variáveis</h2> </div>"
      ]
    },
    {
      "cell_type": "code",
      "execution_count": null,
      "id": "68d833fe",
      "metadata": {
        "id": "68d833fe"
      },
      "outputs": [],
      "source": [
        "mensagem = 'Oi, tudo bem?'\n",
        "n = 10\n",
        "pi = 3.14"
      ]
    },
    {
      "cell_type": "code",
      "execution_count": null,
      "id": "a1c304a3",
      "metadata": {
        "id": "a1c304a3",
        "outputId": "e3260342-a051-474a-cf2c-4ed47d01f507"
      },
      "outputs": [
        {
          "data": {
            "text/plain": [
              "str"
            ]
          },
          "execution_count": 3,
          "metadata": {},
          "output_type": "execute_result"
        }
      ],
      "source": [
        "type(mensagem)"
      ]
    },
    {
      "cell_type": "code",
      "execution_count": null,
      "id": "9503c472",
      "metadata": {
        "id": "9503c472",
        "outputId": "ea70342a-9f50-4d34-bb41-6105c827cb9e"
      },
      "outputs": [
        {
          "data": {
            "text/plain": [
              "int"
            ]
          },
          "execution_count": 11,
          "metadata": {},
          "output_type": "execute_result"
        }
      ],
      "source": [
        "type(n)"
      ]
    },
    {
      "cell_type": "code",
      "execution_count": null,
      "id": "f89b9b29",
      "metadata": {
        "id": "f89b9b29",
        "outputId": "1bde99a7-1e43-46bf-aae4-2c06afcfb467"
      },
      "outputs": [
        {
          "data": {
            "text/plain": [
              "float"
            ]
          },
          "execution_count": 12,
          "metadata": {},
          "output_type": "execute_result"
        }
      ],
      "source": [
        "type(pi)"
      ]
    },
    {
      "cell_type": "markdown",
      "id": "aafcb39e",
      "metadata": {
        "id": "aafcb39e"
      },
      "source": [
        "<div style=\"text-align: left\"><p><strong>Atenção</strong><br>O que acontece ao cadastrar uma variável com número na frente?</p></div>"
      ]
    },
    {
      "cell_type": "code",
      "execution_count": null,
      "id": "00af7e44",
      "metadata": {
        "id": "00af7e44",
        "outputId": "2c731e84-29a4-4959-edbf-75fe603b74df"
      },
      "outputs": [
        {
          "ename": "SyntaxError",
          "evalue": "invalid decimal literal (560062693.py, line 1)",
          "output_type": "error",
          "traceback": [
            "\u001b[1;36m  Cell \u001b[1;32mIn [13], line 1\u001b[1;36m\u001b[0m\n\u001b[1;33m    2x = 5\u001b[0m\n\u001b[1;37m    ^\u001b[0m\n\u001b[1;31mSyntaxError\u001b[0m\u001b[1;31m:\u001b[0m invalid decimal literal\n"
          ]
        }
      ],
      "source": [
        "2x = 5"
      ]
    },
    {
      "cell_type": "code",
      "execution_count": null,
      "id": "497966c1",
      "metadata": {
        "id": "497966c1",
        "outputId": "7584d490-ad5a-4419-c6a6-01580b3327e6"
      },
      "outputs": [
        {
          "data": {
            "text/html": [
              "<img src=\"https://images.ctfassets.net/hrltx12pl8hq/7yQR5uJhwEkRfjwMFJ7bUK/dc52a0913e8ff8b5c276177890eb0129/offset_comp_772626-opt.jpg?fit=fill&w=800&h=300\"/>"
            ],
            "text/plain": [
              "<IPython.core.display.Image object>"
            ]
          },
          "execution_count": 10,
          "metadata": {},
          "output_type": "execute_result"
        }
      ],
      "source": [
        "\"Para adicionar uma imagem utilize o código abaixo\"\n",
        "from IPython.display import Image\n",
        "from IPython.core.display import HTML \n",
        "Image(url= \"https://images.ctfassets.net/hrltx12pl8hq/7yQR5uJhwEkRfjwMFJ7bUK/dc52a0913e8ff8b5c276177890eb0129/offset_comp_772626-opt.jpg?fit=fill&w=800&h=300\")"
      ]
    },
    {
      "cell_type": "code",
      "source": [
        "from IPython.display import Image\n",
        "from IPython.core.display import HTML\n",
        "Image(url= \"https://www.8newsnow.com/wp-content/uploads/sites/59/2022/08/husky_eyes.jpg?w=1988&h=1440&crop=1\")"
      ],
      "metadata": {
        "colab": {
          "base_uri": "https://localhost:8080/",
          "height": 1000
        },
        "id": "mzY8MNRh_OH2",
        "outputId": "928d49e6-7b07-4586-c3b7-f1e6b0b30a8b"
      },
      "id": "mzY8MNRh_OH2",
      "execution_count": 3,
      "outputs": [
        {
          "output_type": "execute_result",
          "data": {
            "text/html": [
              "<img src=\"https://www.8newsnow.com/wp-content/uploads/sites/59/2022/08/husky_eyes.jpg?w=1988&h=1440&crop=1\"/>"
            ],
            "text/plain": [
              "<IPython.core.display.Image object>"
            ]
          },
          "metadata": {},
          "execution_count": 3
        }
      ]
    },
    {
      "cell_type": "code",
      "source": [
        "from IPython.display import Image\n",
        "from IPython.core.display import HTML\n",
        "Image(url= \"https://i.pinimg.com/originals/bd/a5/be/bda5be61177acdb5fd46c3219f8b81a0.jpg\")"
      ],
      "metadata": {
        "colab": {
          "base_uri": "https://localhost:8080/",
          "height": 1000
        },
        "id": "-7OwdTUOJ9-p",
        "outputId": "52561bb6-f7dc-4653-cc38-1610dcdb1b1c"
      },
      "id": "-7OwdTUOJ9-p",
      "execution_count": 34,
      "outputs": [
        {
          "output_type": "execute_result",
          "data": {
            "text/html": [
              "<img src=\"https://i.pinimg.com/originals/bd/a5/be/bda5be61177acdb5fd46c3219f8b81a0.jpg\"/>"
            ],
            "text/plain": [
              "<IPython.core.display.Image object>"
            ]
          },
          "metadata": {},
          "execution_count": 34
        }
      ]
    },
    {
      "cell_type": "code",
      "source": [
        "from IPython.display import Image\n",
        "from IPython.core.display import HTML\n",
        "Image(url= \"https://www.google.com.br/maps/place/SENAI+Florian%C3%B3polis+(CTAI)/@-27.547806,-48.5016379,17z/data=!3m1!4b1!4m5!3m4!1s0x9527475e01a8efef:0x5b0f13adab8483ec!8m2!3d-27.5478108!4d-48.4994439\")"
      ],
      "metadata": {
        "colab": {
          "base_uri": "https://localhost:8080/",
          "height": 38
        },
        "id": "0Bs5HCw3KX2L",
        "outputId": "facd70eb-c002-49c1-8c1a-16712a2dfaa8"
      },
      "id": "0Bs5HCw3KX2L",
      "execution_count": 35,
      "outputs": [
        {
          "output_type": "execute_result",
          "data": {
            "text/html": [
              "<img src=\"https://www.google.com.br/maps/place/SENAI+Florian%C3%B3polis+(CTAI)/@-27.547806,-48.5016379,17z/data=!3m1!4b1!4m5!3m4!1s0x9527475e01a8efef:0x5b0f13adab8483ec!8m2!3d-27.5478108!4d-48.4994439\"/>"
            ],
            "text/plain": [
              "<IPython.core.display.Image object>"
            ]
          },
          "metadata": {},
          "execution_count": 35
        }
      ]
    },
    {
      "cell_type": "markdown",
      "id": "ee38702d",
      "metadata": {
        "id": "ee38702d"
      },
      "source": [
        "<div style=\"text-align: center\"> <h2>Como realizar uma declaração de variável múltipla?</h2> </div>"
      ]
    },
    {
      "cell_type": "code",
      "execution_count": null,
      "id": "b1db5bc9",
      "metadata": {
        "id": "b1db5bc9"
      },
      "outputs": [],
      "source": [
        "pessoa1,pessoa2,pessoa3=\"Maria\",\"Julia\",\"Ana\""
      ]
    },
    {
      "cell_type": "markdown",
      "id": "22623066",
      "metadata": {
        "id": "22623066"
      },
      "source": [
        "<div style=\"text-align: center\"> <h2>Teste o modo script no jupyter e em outra IDE</h2> </div>"
      ]
    },
    {
      "cell_type": "code",
      "execution_count": null,
      "id": "d0c6afb9",
      "metadata": {
        "id": "d0c6afb9",
        "outputId": "8ea9384e-1b41-4d9d-e7e9-5d2ce0334d55"
      },
      "outputs": [
        {
          "data": {
            "text/plain": [
              "6"
            ]
          },
          "execution_count": 12,
          "metadata": {},
          "output_type": "execute_result"
        }
      ],
      "source": [
        "5\n",
        "x= 5\n",
        "x + 1"
      ]
    },
    {
      "cell_type": "code",
      "source": [
        "2\n",
        "y=3\n",
        "y+10"
      ],
      "metadata": {
        "colab": {
          "base_uri": "https://localhost:8080/"
        },
        "id": "su8WB676Aqj-",
        "outputId": "419bbbe7-b011-4ecc-e278-2d033735194c"
      },
      "id": "su8WB676Aqj-",
      "execution_count": 4,
      "outputs": [
        {
          "output_type": "execute_result",
          "data": {
            "text/plain": [
              "13"
            ]
          },
          "metadata": {},
          "execution_count": 4
        }
      ]
    },
    {
      "cell_type": "markdown",
      "id": "df52c479",
      "metadata": {
        "id": "df52c479"
      },
      "source": [
        "<div style=\"text-align: left\">\n",
        "No script não recebe nenhuma saída. Uma expressão, por conta própria, não tem efeito visível no modo script. O Python,\n",
        "na verdade, avalia a expressão, mas não exibe o valor a menos que você especifique:.</div>"
      ]
    },
    {
      "cell_type": "code",
      "execution_count": null,
      "id": "a7013ad2",
      "metadata": {
        "id": "a7013ad2",
        "outputId": "bfc762cd-dc90-4443-9193-a9146fdb6397"
      },
      "outputs": [
        {
          "name": "stdout",
          "output_type": "stream",
          "text": [
            "x + 1\n"
          ]
        }
      ],
      "source": [
        "x = 5\n",
        "print('x + 1')"
      ]
    },
    {
      "cell_type": "markdown",
      "id": "5bc35aa2",
      "metadata": {
        "id": "5bc35aa2"
      },
      "source": [
        "<div style=\"text-align: center\"> <h2>Operações com strings</h2> </div>"
      ]
    },
    {
      "cell_type": "code",
      "execution_count": null,
      "id": "efc72853",
      "metadata": {
        "id": "efc72853"
      },
      "outputs": [],
      "source": [
        "primeiro = 'o'"
      ]
    },
    {
      "cell_type": "code",
      "execution_count": null,
      "id": "cd49e9e6",
      "metadata": {
        "id": "cd49e9e6"
      },
      "outputs": [],
      "source": [
        "segundo = 'i'"
      ]
    },
    {
      "cell_type": "code",
      "execution_count": null,
      "id": "bf86f883",
      "metadata": {
        "id": "bf86f883",
        "outputId": "5b85dd15-262c-4c81-d9d2-c901f45265fb"
      },
      "outputs": [
        {
          "data": {
            "text/plain": [
              "'Quanto dá primeiro + segundo?'"
            ]
          },
          "execution_count": 17,
          "metadata": {},
          "output_type": "execute_result"
        }
      ],
      "source": [
        "\"\"\"Quanto dá primeiro + segundo?\"\"\""
      ]
    },
    {
      "cell_type": "code",
      "execution_count": null,
      "id": "af6d587b",
      "metadata": {
        "id": "af6d587b",
        "outputId": "54279cd3-45fb-433a-c906-1894833e49ab"
      },
      "outputs": [
        {
          "data": {
            "text/plain": [
              "'oi'"
            ]
          },
          "execution_count": 18,
          "metadata": {},
          "output_type": "execute_result"
        }
      ],
      "source": [
        "primeiro+segundo"
      ]
    },
    {
      "cell_type": "markdown",
      "id": "e5a69b43",
      "metadata": {
        "id": "e5a69b43"
      },
      "source": [
        "<div style=\"text-align: left\"><p>\n",
        "Execute a multiplicação do primeiro pelo segundo</p></div>"
      ]
    },
    {
      "cell_type": "code",
      "execution_count": null,
      "id": "fecce905",
      "metadata": {
        "id": "fecce905",
        "outputId": "cfa03309-7d46-46b4-a06f-a6772ce00cc6"
      },
      "outputs": [
        {
          "data": {
            "text/plain": [
              "'ooo'"
            ]
          },
          "execution_count": 20,
          "metadata": {},
          "output_type": "execute_result"
        }
      ],
      "source": [
        "primeiro*3"
      ]
    },
    {
      "cell_type": "code",
      "execution_count": null,
      "id": "82e0ba76",
      "metadata": {
        "id": "82e0ba76",
        "outputId": "fdef6350-de7f-49e2-d045-23e27c83b214"
      },
      "outputs": [
        {
          "data": {
            "text/plain": [
              "'Converta os números: 2 para float e 2.8 \\n\\n\\n\\n\\npara inteiro'"
            ]
          },
          "execution_count": 21,
          "metadata": {},
          "output_type": "execute_result"
        }
      ],
      "source": [
        "\"\"\"Converta os números: 2 para float e 2.8 \n",
        "\n",
        "\n",
        "\n",
        "\n",
        "para inteiro\"\"\"\n",
        "\n"
      ]
    },
    {
      "cell_type": "code",
      "execution_count": null,
      "id": "0977f288",
      "metadata": {
        "id": "0977f288",
        "outputId": "f9ea9689-1be7-4735-c4c0-700f90f3bb07"
      },
      "outputs": [
        {
          "data": {
            "text/plain": [
              "2.0"
            ]
          },
          "execution_count": 22,
          "metadata": {},
          "output_type": "execute_result"
        }
      ],
      "source": [
        "float(2)"
      ]
    },
    {
      "cell_type": "code",
      "execution_count": null,
      "id": "23ad2cc6",
      "metadata": {
        "id": "23ad2cc6",
        "outputId": "338f6cfd-aa70-4078-dee7-2fb21c214fba"
      },
      "outputs": [
        {
          "data": {
            "text/plain": [
              "2"
            ]
          },
          "execution_count": 23,
          "metadata": {},
          "output_type": "execute_result"
        }
      ],
      "source": [
        "int(2.8)"
      ]
    },
    {
      "cell_type": "code",
      "execution_count": null,
      "id": "13482da7",
      "metadata": {
        "id": "13482da7",
        "outputId": "49752553-db85-4547-9090-9ca5b2a5650f"
      },
      "outputs": [
        {
          "data": {
            "text/plain": [
              "'2'"
            ]
          },
          "execution_count": 25,
          "metadata": {},
          "output_type": "execute_result"
        }
      ],
      "source": [
        "x=2\n",
        "str(x)"
      ]
    },
    {
      "cell_type": "code",
      "execution_count": null,
      "id": "e8d23aa7",
      "metadata": {
        "id": "e8d23aa7"
      },
      "outputs": [],
      "source": []
    },
    {
      "cell_type": "code",
      "execution_count": null,
      "id": "1b4939ef",
      "metadata": {
        "id": "1b4939ef"
      },
      "outputs": [],
      "source": [
        "# Retorna o valor absoluto de -10\n"
      ]
    },
    {
      "cell_type": "code",
      "execution_count": null,
      "id": "77c943ce",
      "metadata": {
        "id": "77c943ce",
        "outputId": "779ed7f8-8596-4e78-bc3b-32edd04dfc72"
      },
      "outputs": [
        {
          "data": {
            "text/plain": [
              "10"
            ]
          },
          "execution_count": 27,
          "metadata": {},
          "output_type": "execute_result"
        }
      ],
      "source": [
        "abs(-10)"
      ]
    },
    {
      "cell_type": "code",
      "execution_count": null,
      "id": "12446a2b",
      "metadata": {
        "id": "12446a2b"
      },
      "outputs": [],
      "source": [
        "# Retorna o valor com arredondamento de 8.7890 em duas casas decimais\n"
      ]
    },
    {
      "cell_type": "code",
      "execution_count": null,
      "id": "38e603ea",
      "metadata": {
        "id": "38e603ea",
        "outputId": "426f8934-19e6-45ea-e090-4274fc3515ab"
      },
      "outputs": [
        {
          "data": {
            "text/plain": [
              "8.79"
            ]
          },
          "execution_count": 29,
          "metadata": {},
          "output_type": "execute_result"
        }
      ],
      "source": [
        "round(8.7890,2)"
      ]
    },
    {
      "cell_type": "code",
      "execution_count": null,
      "id": "e2e1df93",
      "metadata": {
        "id": "e2e1df93"
      },
      "outputs": [],
      "source": [
        "# 2 elevado a 5 dá quanto?\n"
      ]
    },
    {
      "cell_type": "code",
      "execution_count": null,
      "id": "8aa49f3d",
      "metadata": {
        "id": "8aa49f3d",
        "outputId": "c8e84944-4674-47ec-a2c1-9dfae494cc6c"
      },
      "outputs": [
        {
          "data": {
            "text/plain": [
              "32"
            ]
          },
          "execution_count": 31,
          "metadata": {},
          "output_type": "execute_result"
        }
      ],
      "source": [
        "pow(2,5)"
      ]
    },
    {
      "cell_type": "markdown",
      "id": "f9aedd78",
      "metadata": {
        "id": "f9aedd78"
      },
      "source": [
        "Desenvolva um algoritmo e um fluxograma para um\n",
        "programa que permita com que o usuário insira quatro\n",
        "números. \n",
        "O programa deverá imprimir a média ponderada, sabendo-se que os pesos são respectivamente: 1, 2, 3 e 4"
      ]
    },
    {
      "cell_type": "code",
      "execution_count": 5,
      "id": "35bbfa3d",
      "metadata": {
        "colab": {
          "base_uri": "https://localhost:8080/"
        },
        "id": "35bbfa3d",
        "outputId": "f24f5e85-5a40-4abe-93bd-0c1acb9c9018"
      },
      "outputs": [
        {
          "name": "stdout",
          "output_type": "stream",
          "text": [
            "Digite o número 1: 9\n"
          ]
        }
      ],
      "source": [
        "num1=float(input(\"Digite o número 1: \"))"
      ]
    },
    {
      "cell_type": "code",
      "execution_count": 7,
      "id": "2989f359",
      "metadata": {
        "colab": {
          "base_uri": "https://localhost:8080/"
        },
        "id": "2989f359",
        "outputId": "508720e0-74e1-44be-d873-8348a5cf0ad4"
      },
      "outputs": [
        {
          "name": "stdout",
          "output_type": "stream",
          "text": [
            "Digite o número 2: 9\n"
          ]
        }
      ],
      "source": [
        "num2=float(input(\"Digite o número 2: \"))"
      ]
    },
    {
      "cell_type": "code",
      "execution_count": 8,
      "id": "05e384b9",
      "metadata": {
        "colab": {
          "base_uri": "https://localhost:8080/"
        },
        "id": "05e384b9",
        "outputId": "90611c2f-52c3-43cc-bfc1-f3bf7673d2bb"
      },
      "outputs": [
        {
          "name": "stdout",
          "output_type": "stream",
          "text": [
            "Digite o número 3: 9\n"
          ]
        }
      ],
      "source": [
        "num3=float(input(\"Digite o número 3: \"))"
      ]
    },
    {
      "cell_type": "code",
      "execution_count": 9,
      "id": "02fb03ec",
      "metadata": {
        "colab": {
          "base_uri": "https://localhost:8080/"
        },
        "id": "02fb03ec",
        "outputId": "98035886-7daa-474f-88ca-4288669935b0"
      },
      "outputs": [
        {
          "name": "stdout",
          "output_type": "stream",
          "text": [
            "Digite o número 4: 9\n"
          ]
        }
      ],
      "source": [
        "num4=float(input(\"Digite o número 4: \"))"
      ]
    },
    {
      "cell_type": "code",
      "execution_count": 10,
      "id": "10469472",
      "metadata": {
        "id": "10469472"
      },
      "outputs": [],
      "source": [
        "media=(num1*1 + num2*2 + num3*3 + num4*4)/10"
      ]
    },
    {
      "cell_type": "code",
      "execution_count": 11,
      "id": "8ebf0836",
      "metadata": {
        "colab": {
          "base_uri": "https://localhost:8080/"
        },
        "id": "8ebf0836",
        "outputId": "435ab2b1-924d-438a-fb9a-242165851b74"
      },
      "outputs": [
        {
          "output_type": "stream",
          "name": "stdout",
          "text": [
            "9.0\n"
          ]
        }
      ],
      "source": [
        "print(media)"
      ]
    },
    {
      "cell_type": "markdown",
      "id": "486ea5f8",
      "metadata": {
        "id": "486ea5f8"
      },
      "source": [
        "Todo restaurante, embora por lei não possa obrigar o cliente a\n",
        "pagar, cobra 10% do valor da conta como taxa de serviço. Elabore\n",
        "um algoritmo e um fluxograma que leia o valor gasto com as\n",
        "despesas realizadas em um restaurante e exiba o valor total com a\n",
        "taxa de serviço (conforme exemplo).\n",
        "Por favor digite o valor da conta (em reais): 75\n",
        "Valor da taxa de serviço: 7.5 reais\n",
        "Valor total da conta (com taxa de serviço): 82.5 reais"
      ]
    },
    {
      "cell_type": "code",
      "execution_count": 12,
      "id": "92d9e5ba",
      "metadata": {
        "colab": {
          "base_uri": "https://localhost:8080/"
        },
        "id": "92d9e5ba",
        "outputId": "99a62de5-961c-4ac7-b4b3-d9a45d75c99a"
      },
      "outputs": [
        {
          "name": "stdout",
          "output_type": "stream",
          "text": [
            "Por favor digite o valor da conta (em reais)121\n"
          ]
        }
      ],
      "source": [
        "valor=float(input(\"Por favor digite o valor da conta (em reais)\"))"
      ]
    },
    {
      "cell_type": "code",
      "execution_count": null,
      "id": "24e11c1b",
      "metadata": {
        "id": "24e11c1b"
      },
      "outputs": [],
      "source": [
        "taxa=valor*0.1\n",
        "valorfinal=valor+taxa"
      ]
    },
    {
      "cell_type": "code",
      "execution_count": null,
      "id": "516ab8b9",
      "metadata": {
        "id": "516ab8b9",
        "outputId": "1f2b22c4-a04d-449c-cd64-fafa569bdc04"
      },
      "outputs": [
        {
          "name": "stdout",
          "output_type": "stream",
          "text": [
            "Valor da taxa de serviço:  10.0\n"
          ]
        }
      ],
      "source": [
        "print(\"Valor da taxa de serviço: \",taxa)"
      ]
    },
    {
      "cell_type": "code",
      "execution_count": null,
      "id": "6d841e58",
      "metadata": {
        "id": "6d841e58",
        "outputId": "de899b4a-6e85-4f10-b6dc-9b39803da31e"
      },
      "outputs": [
        {
          "name": "stdout",
          "output_type": "stream",
          "text": [
            "Valor total da conta: 110.0\n"
          ]
        }
      ],
      "source": [
        "print(\"Valor total da conta:\", valorfinal)"
      ]
    },
    {
      "cell_type": "markdown",
      "id": "9fdca8a3",
      "metadata": {
        "id": "9fdca8a3"
      },
      "source": [
        "Escreva um algoritmo e monte um fluxograma que leia as dimensões de um terreno (largura e profundidade) e calcule sua \n",
        "área."
      ]
    },
    {
      "cell_type": "code",
      "execution_count": 13,
      "id": "20acce41",
      "metadata": {
        "colab": {
          "base_uri": "https://localhost:8080/"
        },
        "id": "20acce41",
        "outputId": "e2fb4a4d-66d5-4d0e-ccb6-39522ed1d5d3"
      },
      "outputs": [
        {
          "output_type": "stream",
          "name": "stdout",
          "text": [
            "digite largura: 10\n",
            "digite comprimento: 20\n",
            "área do terreno:  200.0\n"
          ]
        }
      ],
      "source": [
        "lag=float(input(\"digite largura: \"))\n",
        "comp=float(input(\"digite comprimento: \"))\n",
        "total=lag*comp\n",
        "print(\"área do terreno: \", total)"
      ]
    },
    {
      "cell_type": "markdown",
      "id": "69ddeea4",
      "metadata": {
        "id": "69ddeea4"
      },
      "source": [
        "Faça um algoritmo e um fluxograma que leia a idade de uma pessoa expressa em anos, meses e dias e mostre-a \n",
        "expressa apenas em dias. A idade deve ser digitada considerando três variáveis inteiras.\n"
      ]
    },
    {
      "cell_type": "code",
      "execution_count": 14,
      "id": "1d36b48b",
      "metadata": {
        "colab": {
          "base_uri": "https://localhost:8080/"
        },
        "id": "1d36b48b",
        "outputId": "f1f489aa-abfd-498c-d7e5-b414d8fd8d23"
      },
      "outputs": [
        {
          "output_type": "stream",
          "name": "stdout",
          "text": [
            "digite a idade em anos37\n",
            "digite a idade em meses9\n",
            "digite a idade em dias1\n",
            "Sua idade em dias é:  13776\n"
          ]
        }
      ],
      "source": [
        "ano=int(input(\"digite a idade em anos\"))\n",
        "meses=int(input(\"digite a idade em meses\"))\n",
        "dias=int(input(\"digite a idade em dias\"))\n",
        "idade=ano*365+meses*30+dias\n",
        "print(\"Sua idade em dias é: \", idade)"
      ]
    },
    {
      "cell_type": "markdown",
      "id": "c7607374",
      "metadata": {
        "id": "c7607374"
      },
      "source": [
        " Uma fazenda adquiriu animais para o trabalho diário e também para produção de leite e lã. Foram \n",
        "adquiridos cavalos, vacas e ovelhas.\n",
        "A quantidade de cada animal deve ser informada no algoritmo. Após, deve ser calculado e \n",
        "apresentado as seguintes informações:\n",
        " Volume diário, semanal e mensal de leite produzido, considerando que cada vaca produz, na \n",
        "média, 3,2 litros/dia.\n",
        " Volume, em quilos, de lã produzida, estimando para isso que cada ovelha produza 2,3 quilos \n",
        "de lã a cada tosquia (retirada da lã da ovelha).\n",
        " Quantidade de ferraduras necessárias para equipar toda a tropa de cavalos"
      ]
    },
    {
      "cell_type": "code",
      "source": [
        "\n",
        "\n",
        "\n",
        "\n",
        "\n",
        "#produção de leite das vacas adquiridas.\n",
        "\n",
        "vacasAdq=float(input(\"Digite o numero de vacas adquiridas:\"))\n"
      ],
      "metadata": {
        "colab": {
          "base_uri": "https://localhost:8080/"
        },
        "id": "NaiB3__QCZJb",
        "outputId": "827464f3-b4b7-4d99-ea2e-10268ef0716c"
      },
      "id": "NaiB3__QCZJb",
      "execution_count": 28,
      "outputs": [
        {
          "name": "stdout",
          "output_type": "stream",
          "text": [
            "Digite o numero de vacas adquiridas:10\n"
          ]
        }
      ]
    },
    {
      "cell_type": "code",
      "source": [
        "prodDia=vacasAdq*3.2\n",
        "prodSemana=prodDia*7\n",
        "prodMes=prodDia*30\n",
        "print(\"Produção diaria\", prodDia, \"Semana\",  prodSemana,  \"Mensal\", prodMes)"
      ],
      "metadata": {
        "colab": {
          "base_uri": "https://localhost:8080/"
        },
        "id": "VGdYWl-vDhV2",
        "outputId": "f6260162-1246-4593-a1ab-3cb927f4bf99"
      },
      "id": "VGdYWl-vDhV2",
      "execution_count": 22,
      "outputs": [
        {
          "output_type": "stream",
          "name": "stdout",
          "text": [
            "Produção diaria 32.0 Semana 224.0 Mensal 960.0\n"
          ]
        }
      ]
    },
    {
      "cell_type": "code",
      "source": [
        "\n",
        "\n",
        "\n",
        "\n",
        "\n",
        "\n",
        "\n",
        "\n",
        "#produção de lã das ovelhas adquiridas.\n",
        "ovelhasAdq=float(input(\"Digite o numero de ovelhas adquiridas:\"))\n"
      ],
      "metadata": {
        "colab": {
          "base_uri": "https://localhost:8080/"
        },
        "id": "N50_q4hBEvN4",
        "outputId": "04f3ef50-59c8-4b1d-a21b-1f9e96b9896a"
      },
      "id": "N50_q4hBEvN4",
      "execution_count": 23,
      "outputs": [
        {
          "name": "stdout",
          "output_type": "stream",
          "text": [
            "Digite o numero de ovelhas adquiridas:100\n"
          ]
        }
      ]
    },
    {
      "cell_type": "code",
      "source": [
        "prodDia=ovelhasAdq*2.3\n",
        "prodSemana=prodDia*7\n",
        "prodMes=prodDia*30\n",
        "print(\"Produção diaria de lã em Kgs\", round(prodDia), \"Semanal\",  round(prodSemana),  \"Mensal\", round(prodMes))"
      ],
      "metadata": {
        "colab": {
          "base_uri": "https://localhost:8080/"
        },
        "id": "ZnuDR_bdECPH",
        "outputId": "3d7fac8d-fb33-4f76-9762-eaaa37ba410a"
      },
      "id": "ZnuDR_bdECPH",
      "execution_count": 27,
      "outputs": [
        {
          "output_type": "stream",
          "name": "stdout",
          "text": [
            "Produção diaria 230 Semana 1610 Mensal 6900\n"
          ]
        }
      ]
    },
    {
      "cell_type": "code",
      "source": [
        "\n",
        "\n",
        "\n",
        "\n",
        "\n",
        "#quantidade de ferraduras para a cavalaria\n",
        "cavalosAdq=float(input(\"Digite o numero de cavalos adquiridos:\"))"
      ],
      "metadata": {
        "colab": {
          "base_uri": "https://localhost:8080/"
        },
        "id": "mCqdsz_rHJ10",
        "outputId": "cc7ad5e6-5879-46f5-a613-ed9c9d5db5ce"
      },
      "id": "mCqdsz_rHJ10",
      "execution_count": 29,
      "outputs": [
        {
          "name": "stdout",
          "output_type": "stream",
          "text": [
            "Digite o numero de cavalos adquiridas:10\n"
          ]
        }
      ]
    },
    {
      "cell_type": "code",
      "source": [
        "prodDia=cavalosAdq*4\n",
        "prodSemana=prodDia*7\n",
        "prodMes=prodDia*30\n",
        "print(\"Cascos ferreados por dia dia\", round(prodDia), \"por semana\",  round(prodSemana),  \"por mes\", round(prodMes))"
      ],
      "metadata": {
        "colab": {
          "base_uri": "https://localhost:8080/"
        },
        "id": "2CVuOKhpHuME",
        "outputId": "eb8512d0-0d65-439a-b5f3-30cbd15c6dc5"
      },
      "id": "2CVuOKhpHuME",
      "execution_count": 30,
      "outputs": [
        {
          "output_type": "stream",
          "name": "stdout",
          "text": [
            "Cascos ferreados por dia dia 40 por semana 280 por mes 1200\n"
          ]
        }
      ]
    }
  ],
  "metadata": {
    "celltoolbar": "Slideshow",
    "kernelspec": {
      "display_name": "Python 3 (ipykernel)",
      "language": "python",
      "name": "python3"
    },
    "language_info": {
      "codemirror_mode": {
        "name": "ipython",
        "version": 3
      },
      "file_extension": ".py",
      "mimetype": "text/x-python",
      "name": "python",
      "nbconvert_exporter": "python",
      "pygments_lexer": "ipython3",
      "version": "3.10.7"
    },
    "colab": {
      "provenance": [],
      "include_colab_link": true
    }
  },
  "nbformat": 4,
  "nbformat_minor": 5
}