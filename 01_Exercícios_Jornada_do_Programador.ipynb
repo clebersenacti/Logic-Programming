{
  "cells": [
    {
      "cell_type": "markdown",
      "metadata": {
        "id": "view-in-github",
        "colab_type": "text"
      },
      "source": [
        "<a href=\"https://colab.research.google.com/github/clebersenacti/Logic-Programming/blob/main/01_Exerc%C3%ADcios_Jornada_do_Programador.ipynb\" target=\"_parent\"><img src=\"https://colab.research.google.com/assets/colab-badge.svg\" alt=\"Open In Colab\"/></a>"
      ]
    },
    {
      "cell_type": "markdown",
      "id": "b832a2ac",
      "metadata": {
        "id": "b832a2ac"
      },
      "source": [
        "<div style=\"text-align: center\"> <p><h1> Exercícios </h1><br> DOWNEY AB, em Python P. pense como um cientista da computação. São Paulo: Novatec. 2016.</p> </div>"
      ]
    },
    {
      "cell_type": "markdown",
      "id": "eede8c88",
      "metadata": {
        "id": "eede8c88"
      },
      "source": [
        "<div style=\"text-align: left\"> <strong> Exercício 1</strong><ol>\n",
        "    <li>O que acontece se você omitir um dos parênteses ou ambos de uma instrução print?</li>\n",
        "    <li>E se omitir uma das aspas ou ambas?</li>\n",
        "    <li>Você pode usar um sinal de menos para fazer um número negativo como -2. O que\n",
        "acontece se puser um sinal de mais antes de um número? E se escrever assim: 2++2?</li>\n",
        "    <li>Na notação matemática, zeros à esquerda são aceitáveis, como em 02. O que\n",
        "acontece se você tentar usar isso no Python?</li>\n",
        "    <li>O que acontece se você tiver dois valores sem nenhum operador entre eles?</li> </ol> </div>"
      ]
    },
    {
      "cell_type": "code",
      "execution_count": 1,
      "id": "f27f3cd3",
      "metadata": {
        "colab": {
          "base_uri": "https://localhost:8080/",
          "height": 135
        },
        "id": "f27f3cd3",
        "outputId": "3293e2f0-add3-425e-8add-9121f2cc5d35"
      },
      "outputs": [
        {
          "output_type": "error",
          "ename": "SyntaxError",
          "evalue": "ignored",
          "traceback": [
            "\u001b[0;36m  File \u001b[0;32m\"<ipython-input-1-5c687d077d27>\"\u001b[0;36m, line \u001b[0;32m2\u001b[0m\n\u001b[0;31m    print(a\u001b[0m\n\u001b[0m           ^\u001b[0m\n\u001b[0;31mSyntaxError\u001b[0m\u001b[0;31m:\u001b[0m unexpected EOF while parsing\n"
          ]
        }
      ],
      "source": [
        "#1 O que acontece se você omitir um dos parênteses ou ambos de uma instrução print?\n",
        "a = 1\n",
        "print(a"
      ]
    },
    {
      "cell_type": "code",
      "execution_count": 2,
      "id": "9cd129be",
      "metadata": {
        "colab": {
          "base_uri": "https://localhost:8080/",
          "height": 135
        },
        "id": "9cd129be",
        "outputId": "7d899a6e-1b31-4d93-cb61-8f91218d7c6c"
      },
      "outputs": [
        {
          "output_type": "error",
          "ename": "SyntaxError",
          "evalue": "ignored",
          "traceback": [
            "\u001b[0;36m  File \u001b[0;32m\"<ipython-input-2-083c48a82af8>\"\u001b[0;36m, line \u001b[0;32m2\u001b[0m\n\u001b[0;31m    a = \"paulo\u001b[0m\n\u001b[0m              ^\u001b[0m\n\u001b[0;31mSyntaxError\u001b[0m\u001b[0;31m:\u001b[0m EOL while scanning string literal\n"
          ]
        }
      ],
      "source": [
        "#2 E se omitir uma das aspas ou ambas?\n",
        "a = \"paulo\n",
        "print(a)"
      ]
    },
    {
      "cell_type": "code",
      "execution_count": 6,
      "id": "d812b5bf",
      "metadata": {
        "colab": {
          "base_uri": "https://localhost:8080/",
          "height": 0
        },
        "id": "d812b5bf",
        "outputId": "1d126527-3764-4d31-d70e-b216674a4686"
      },
      "outputs": [
        {
          "output_type": "stream",
          "name": "stdout",
          "text": [
            "-2\n",
            "2\n",
            "4\n"
          ]
        }
      ],
      "source": [
        "#3 Você pode usar um sinal de menos para fazer um número negativo como -2. \n",
        "#O que acontece se puser um sinal de mais antes de um número? \n",
        "#E se escrever assim: 2++2?\n",
        "a =  -2\n",
        "b = +2\n",
        "c = 2++2\n",
        "print(a)\n",
        "print(b)\n",
        "print(c)"
      ]
    },
    {
      "cell_type": "code",
      "execution_count": 7,
      "id": "74bcd1be",
      "metadata": {
        "colab": {
          "base_uri": "https://localhost:8080/",
          "height": 135
        },
        "id": "74bcd1be",
        "outputId": "0eaf84eb-2e5e-4e6a-cb16-0d1984a5ff31"
      },
      "outputs": [
        {
          "output_type": "error",
          "ename": "SyntaxError",
          "evalue": "ignored",
          "traceback": [
            "\u001b[0;36m  File \u001b[0;32m\"<ipython-input-7-ca60c66b27d8>\"\u001b[0;36m, line \u001b[0;32m2\u001b[0m\n\u001b[0;31m    a = 02\u001b[0m\n\u001b[0m         ^\u001b[0m\n\u001b[0;31mSyntaxError\u001b[0m\u001b[0;31m:\u001b[0m invalid token\n"
          ]
        }
      ],
      "source": [
        "#4 Na notação matemática, zeros à esquerda são aceitáveis, como em 02. O que acontece se você tentar usar isso no Python?\n",
        "a = 02\n",
        "print(a)"
      ]
    },
    {
      "cell_type": "code",
      "execution_count": 8,
      "id": "962a3684",
      "metadata": {
        "colab": {
          "base_uri": "https://localhost:8080/",
          "height": 135
        },
        "id": "962a3684",
        "outputId": "4b9fc90c-a8d3-4936-9c6d-a8c8553eedbc"
      },
      "outputs": [
        {
          "output_type": "error",
          "ename": "SyntaxError",
          "evalue": "ignored",
          "traceback": [
            "\u001b[0;36m  File \u001b[0;32m\"<ipython-input-8-d0220efabfab>\"\u001b[0;36m, line \u001b[0;32m2\u001b[0m\n\u001b[0;31m    a = 2 5\u001b[0m\n\u001b[0m          ^\u001b[0m\n\u001b[0;31mSyntaxError\u001b[0m\u001b[0;31m:\u001b[0m invalid syntax\n"
          ]
        }
      ],
      "source": [
        "#5 O que acontece se você tiver dois valores sem nenhum operador entre eles?\n",
        "a = 2 5\n",
        "print(a)"
      ]
    },
    {
      "cell_type": "markdown",
      "id": "aa6d9404",
      "metadata": {
        "id": "aa6d9404"
      },
      "source": [
        "<div style=\"text-align: left\"><strong> Exercício 2</strong> <ol>\n",
        "    <li>Quantos segundos há em 42 minutos e 42 segundos?</li>\n",
        "    <li>Quantas milhas há em 10 quilômetros? Dica: uma milha equivale a 1,61 quilômetro.</li>\n",
        "    <li>Se você correr 10 quilômetros em 42 minutos e 42 segundos, qual é o seu passo\n",
        "médio (tempo por milha em minutos e segundos)? Qual é a sua velocidade média em\n",
        "milhas por hora?</li>\n",
        "    </ol></div>"
      ]
    },
    {
      "cell_type": "code",
      "execution_count": 19,
      "id": "f1f2aa2e",
      "metadata": {
        "colab": {
          "base_uri": "https://localhost:8080/",
          "height": 0
        },
        "id": "f1f2aa2e",
        "outputId": "4a6495e5-7783-4a75-fa53-0e708473086c"
      },
      "outputs": [
        {
          "output_type": "stream",
          "name": "stdout",
          "text": [
            "3642\n"
          ]
        }
      ],
      "source": [
        "#1 Quantos segundos há em 42 minutos e 42 segundos?\n",
        "minuto  =  60\n",
        "segmin = 60*minuto+42 \n",
        "print(segmin)"
      ]
    },
    {
      "cell_type": "code",
      "source": [
        "#2 Quantas milhas há em 10 quilômetros? Dica: uma milha equivale a 1,61 quilômetro.\n",
        "milha = 1.61\n",
        "km10 = 10/1.61\n",
        "print(\"10 km contem\" ,km10, \"milhas!\")"
      ],
      "metadata": {
        "colab": {
          "base_uri": "https://localhost:8080/",
          "height": 0
        },
        "id": "8DRZ72Cy5EZT",
        "outputId": "dc3b847e-5dda-4cee-972e-f1bdbcd96c79"
      },
      "id": "8DRZ72Cy5EZT",
      "execution_count": 17,
      "outputs": [
        {
          "output_type": "stream",
          "name": "stdout",
          "text": [
            "10 km contem 6.211180124223602 milhas!\n"
          ]
        }
      ]
    },
    {
      "cell_type": "code",
      "source": [
        "#3 Se você correr 10 quilômetros em 42 minutos e 42 segundos, \n",
        "#qual é o seu passo médio (tempo por milha em minutos e segundos)? \n",
        "#Qual é a sua velocidade média em milhas por hora?\n",
        "\n",
        "a = segmin/km10\n",
        "passomedio = a/60\n",
        "print(passomedio)\n"
      ],
      "metadata": {
        "colab": {
          "base_uri": "https://localhost:8080/",
          "height": 0
        },
        "id": "5BSp8RRy5os0",
        "outputId": "b964ace9-4251-4c2a-9e3e-fb5d97f40328"
      },
      "id": "5BSp8RRy5os0",
      "execution_count": 23,
      "outputs": [
        {
          "output_type": "stream",
          "name": "stdout",
          "text": [
            "9.772700000000002\n"
          ]
        }
      ]
    },
    {
      "cell_type": "code",
      "source": [],
      "metadata": {
        "id": "ZyPBFDXU703R"
      },
      "id": "ZyPBFDXU703R",
      "execution_count": null,
      "outputs": []
    }
  ],
  "metadata": {
    "kernelspec": {
      "display_name": "Python 3 (ipykernel)",
      "language": "python",
      "name": "python3"
    },
    "language_info": {
      "codemirror_mode": {
        "name": "ipython",
        "version": 3
      },
      "file_extension": ".py",
      "mimetype": "text/x-python",
      "name": "python",
      "nbconvert_exporter": "python",
      "pygments_lexer": "ipython3",
      "version": "3.9.7"
    },
    "colab": {
      "provenance": [],
      "include_colab_link": true
    }
  },
  "nbformat": 4,
  "nbformat_minor": 5
}