{
  "cells": [
    {
      "cell_type": "markdown",
      "metadata": {
        "id": "view-in-github",
        "colab_type": "text"
      },
      "source": [
        "<a href=\"https://colab.research.google.com/github/clebersenacti/Logic-Programming/blob/main/02_Vari%C3%A1veis_Express%C3%B5es_e_Instru%C3%A7%C3%B5es.ipynb\" target=\"_parent\"><img src=\"https://colab.research.google.com/assets/colab-badge.svg\" alt=\"Open In Colab\"/></a>"
      ]
    },
    {
      "cell_type": "markdown",
      "id": "15d5f32b",
      "metadata": {
        "cell_style": "center",
        "id": "15d5f32b"
      },
      "source": [
        "<div style=\"text-align: center\"> <h1> Variáveis, expressões e\n",
        "instruções </h1> </div>"
      ]
    },
    {
      "cell_type": "markdown",
      "id": "131ebd21",
      "metadata": {
        "id": "131ebd21"
      },
      "source": [
        "<div style=\"text-align: left\"> <p> Um dos recursos mais eficientes de uma linguagem de programação é a capacidade de\n",
        "manipular variáveis. Uma variável é um nome que se refere a um valor.[^1]<br>\n",
        "\n",
        "[^1]: DOWNEY AB, em Python P. pense como um cientista da computação. São Paulo: Novatec. 2016.</p> </div>"
      ]
    },
    {
      "cell_type": "markdown",
      "id": "5d92bfda",
      "metadata": {
        "id": "5d92bfda"
      },
      "source": [
        "<div style=\"text-align: center\"> <h2> Instruções de atribuição </h2> </div>"
      ]
    },
    {
      "cell_type": "code",
      "execution_count": null,
      "id": "68d833fe",
      "metadata": {
        "id": "68d833fe"
      },
      "outputs": [],
      "source": [
        "mensagem = 'Oi, tudo bem?'\n",
        "n = 10\n",
        "pi = 3.14"
      ]
    },
    {
      "cell_type": "markdown",
      "id": "1af63e35",
      "metadata": {
        "id": "1af63e35"
      },
      "source": [
        "<div style=\"text-align: center\"> <h2>Teste os tipos de variáveis</h2> </div>"
      ]
    },
    {
      "cell_type": "code",
      "execution_count": null,
      "id": "e76c758e",
      "metadata": {
        "id": "e76c758e",
        "outputId": "204f0b1a-04c2-455c-9a1d-7f4acc434fd5"
      },
      "outputs": [
        {
          "data": {
            "text/plain": [
              "str"
            ]
          },
          "execution_count": 2,
          "metadata": {},
          "output_type": "execute_result"
        }
      ],
      "source": [
        "type(mensagem)"
      ]
    },
    {
      "cell_type": "code",
      "execution_count": null,
      "id": "d702b0be",
      "metadata": {
        "id": "d702b0be",
        "outputId": "0f287374-3215-432b-f197-fe7a5526b516"
      },
      "outputs": [
        {
          "data": {
            "text/plain": [
              "int"
            ]
          },
          "execution_count": 3,
          "metadata": {},
          "output_type": "execute_result"
        }
      ],
      "source": [
        "type(n)"
      ]
    },
    {
      "cell_type": "code",
      "execution_count": null,
      "id": "8a1c5b69",
      "metadata": {
        "id": "8a1c5b69",
        "outputId": "9c31e812-e11d-4dfe-baa6-788bd50b5a8b"
      },
      "outputs": [
        {
          "data": {
            "text/plain": [
              "float"
            ]
          },
          "execution_count": 4,
          "metadata": {},
          "output_type": "execute_result"
        }
      ],
      "source": [
        "type(pi)"
      ]
    },
    {
      "cell_type": "markdown",
      "id": "31dc87b0",
      "metadata": {
        "id": "31dc87b0"
      },
      "source": [
        "<div style=\"text-align: center\"> <h2>Nomes de variáveis</h2> </div>"
      ]
    },
    {
      "cell_type": "markdown",
      "id": "aafcb39e",
      "metadata": {
        "id": "aafcb39e"
      },
      "source": [
        "<div style=\"text-align: left\"><p><strong>Atenção</strong><br>Veja o que acontece ao cadastrar uma variável com número na frente</p></div>"
      ]
    },
    {
      "cell_type": "code",
      "execution_count": null,
      "id": "fb48413b",
      "metadata": {
        "scrolled": true,
        "id": "fb48413b",
        "outputId": "dec6b7d2-64c1-49c6-b559-abcd4f05ec7d"
      },
      "outputs": [
        {
          "ename": "SyntaxError",
          "evalue": "invalid syntax (Temp/ipykernel_7312/870423830.py, line 1)",
          "output_type": "error",
          "traceback": [
            "\u001b[1;36m  File \u001b[1;32m\"C:\\Users\\rafae\\AppData\\Local\\Temp/ipykernel_7312/870423830.py\"\u001b[1;36m, line \u001b[1;32m1\u001b[0m\n\u001b[1;33m    2mensagem = \"Olá, tudo bem?\"\u001b[0m\n\u001b[1;37m     ^\u001b[0m\n\u001b[1;31mSyntaxError\u001b[0m\u001b[1;31m:\u001b[0m invalid syntax\n"
          ]
        }
      ],
      "source": [
        "2mensagem = \"Olá, tudo bem?\"\n"
      ]
    },
    {
      "cell_type": "code",
      "source": [
        "nome1 = \"rafael\"\n",
        "print(nome1)"
      ],
      "metadata": {
        "colab": {
          "base_uri": "https://localhost:8080/"
        },
        "id": "YKha7aL9paw9",
        "outputId": "52744227-395a-4da7-c83f-e8bc9adf8755"
      },
      "id": "YKha7aL9paw9",
      "execution_count": 3,
      "outputs": [
        {
          "output_type": "stream",
          "name": "stdout",
          "text": [
            "rafael\n"
          ]
        }
      ]
    },
    {
      "cell_type": "markdown",
      "id": "aacfa20e",
      "metadata": {
        "id": "aacfa20e"
      },
      "source": [
        "<div style=\"text-align: left\"><p><strong>Atenção</strong><br>\n",
        "Nomes de variáveis podem ser tão longos quanto você queira.<br> Podem conter tanto letras\n",
        "como números, mas não podem começar com um número.<br> É legal usar letras maiúsculas,\n",
        "mas a convenção é usar apenas letras minúsculas para nomes de variáveis.<br>\n",
        "O caractere de sublinhar (_) pode aparecer em um nome. Muitas vezes é usado em nomes\n",
        "com várias palavras, como meu_nome ou rafael_bomaro_ferreira.</p></div>"
      ]
    },
    {
      "cell_type": "code",
      "execution_count": null,
      "id": "95cdd08c",
      "metadata": {
        "id": "95cdd08c",
        "outputId": "d6b31c98-65bb-44a6-84bb-23992e5cb2ae"
      },
      "outputs": [
        {
          "ename": "SyntaxError",
          "evalue": "invalid syntax (Temp/ipykernel_7312/1072480177.py, line 1)",
          "output_type": "error",
          "traceback": [
            "\u001b[1;36m  File \u001b[1;32m\"C:\\Users\\rafae\\AppData\\Local\\Temp/ipykernel_7312/1072480177.py\"\u001b[1;36m, line \u001b[1;32m1\u001b[0m\n\u001b[1;33m    class = 'Olá, tudo bem?'\u001b[0m\n\u001b[1;37m          ^\u001b[0m\n\u001b[1;31mSyntaxError\u001b[0m\u001b[1;31m:\u001b[0m invalid syntax\n"
          ]
        }
      ],
      "source": [
        "class = 'Olá, tudo bem?'"
      ]
    },
    {
      "cell_type": "markdown",
      "id": "4df8584a",
      "metadata": {
        "id": "4df8584a"
      },
      "source": [
        "<div style=\"text-align: left\"><p><strong>Atenção</strong><br>\n",
        "A questão é que class é uma das palavras-chave do Python. O interpretador usa palavras-chave\n",
        "para reconhecer a estrutura do programa e elas não podem ser usadas como nomes\n",
        "de variável.</p></div>"
      ]
    },
    {
      "cell_type": "code",
      "execution_count": null,
      "id": "497966c1",
      "metadata": {
        "id": "497966c1",
        "outputId": "004e0f11-11ba-4647-f0fd-f29528ddad2b"
      },
      "outputs": [
        {
          "data": {
            "text/html": [
              "<img src=\"https://blogdosdados.com/wp-content/uploads/2020/06/palavras-chave-em-Python.png\"/>"
            ],
            "text/plain": [
              "<IPython.core.display.Image object>"
            ]
          },
          "execution_count": 7,
          "metadata": {},
          "output_type": "execute_result"
        }
      ],
      "source": [
        "from IPython.display import Image\n",
        "from IPython.core.display import HTML \n",
        "Image(url= \"https://blogdosdados.com/wp-content/uploads/2020/06/palavras-chave-em-Python.png\")"
      ]
    },
    {
      "cell_type": "markdown",
      "id": "da4e15c8",
      "metadata": {
        "id": "da4e15c8"
      },
      "source": [
        "<div style=\"text-align: center\"> <h2>Expressões e instruções</h2> </div>"
      ]
    },
    {
      "cell_type": "code",
      "execution_count": null,
      "id": "382da90f",
      "metadata": {
        "id": "382da90f",
        "outputId": "6d433ed5-4062-467a-d758-9b72fa119af1"
      },
      "outputs": [
        {
          "data": {
            "text/plain": [
              "15"
            ]
          },
          "execution_count": 8,
          "metadata": {},
          "output_type": "execute_result"
        }
      ],
      "source": [
        "15"
      ]
    },
    {
      "cell_type": "code",
      "execution_count": null,
      "id": "f7e11a9f",
      "metadata": {
        "id": "f7e11a9f",
        "outputId": "f768b78a-1d80-461d-f785-0f995711ecae"
      },
      "outputs": [
        {
          "data": {
            "text/plain": [
              "10"
            ]
          },
          "execution_count": 9,
          "metadata": {},
          "output_type": "execute_result"
        }
      ],
      "source": [
        "n"
      ]
    },
    {
      "cell_type": "code",
      "execution_count": null,
      "id": "797de574",
      "metadata": {
        "id": "797de574",
        "outputId": "4c86dcb2-a2e8-4cbd-def0-9fdb545c64e5"
      },
      "outputs": [
        {
          "data": {
            "text/plain": [
              "15"
            ]
          },
          "execution_count": 10,
          "metadata": {},
          "output_type": "execute_result"
        }
      ],
      "source": [
        "n+5"
      ]
    },
    {
      "cell_type": "code",
      "execution_count": 4,
      "id": "8c390ec4",
      "metadata": {
        "colab": {
          "base_uri": "https://localhost:8080/"
        },
        "id": "8c390ec4",
        "outputId": "17c7a2a5-bdb1-40af-bdd1-debfffafcd9e"
      },
      "outputs": [
        {
          "output_type": "stream",
          "name": "stdout",
          "text": [
            "12\n"
          ]
        }
      ],
      "source": [
        "n = 10\n",
        "print(n+2)"
      ]
    },
    {
      "cell_type": "markdown",
      "id": "ee38702d",
      "metadata": {
        "id": "ee38702d"
      },
      "source": [
        "<div style=\"text-align: center\"> <h2>Declaração Múltipla</h2> </div>"
      ]
    },
    {
      "cell_type": "code",
      "execution_count": null,
      "id": "ef9b54c7",
      "metadata": {
        "id": "ef9b54c7"
      },
      "outputs": [],
      "source": [
        "pessoa1, pessoa2, pessoa3 = 'Maria', 'João', 'Rafael'"
      ]
    },
    {
      "cell_type": "code",
      "source": [
        "pessoa1, pessoa2, pessoa3 = 'Maria', 'João', 1"
      ],
      "metadata": {
        "id": "OO66D5WorROJ"
      },
      "id": "OO66D5WorROJ",
      "execution_count": 8,
      "outputs": []
    },
    {
      "cell_type": "code",
      "execution_count": null,
      "id": "698785ae",
      "metadata": {
        "id": "698785ae",
        "outputId": "f28c7771-483f-4fc9-a183-c6394581253e"
      },
      "outputs": [
        {
          "data": {
            "text/plain": [
              "'Maria'"
            ]
          },
          "execution_count": 12,
          "metadata": {},
          "output_type": "execute_result"
        }
      ],
      "source": [
        "pessoa1"
      ]
    },
    {
      "cell_type": "code",
      "execution_count": null,
      "id": "689e5680",
      "metadata": {
        "id": "689e5680",
        "outputId": "8e8d67f5-3f20-4aa1-ff64-f3aebddc24e9"
      },
      "outputs": [
        {
          "data": {
            "text/plain": [
              "'João'"
            ]
          },
          "execution_count": 13,
          "metadata": {},
          "output_type": "execute_result"
        }
      ],
      "source": [
        "pessoa2"
      ]
    },
    {
      "cell_type": "code",
      "execution_count": null,
      "id": "4a8625a7",
      "metadata": {
        "id": "4a8625a7",
        "outputId": "b3046849-2e7b-4300-9256-e55c8f8b9665"
      },
      "outputs": [
        {
          "data": {
            "text/plain": [
              "'Rafael'"
            ]
          },
          "execution_count": 4,
          "metadata": {},
          "output_type": "execute_result"
        }
      ],
      "source": [
        "pessoa3"
      ]
    },
    {
      "cell_type": "code",
      "execution_count": null,
      "id": "54a225ea",
      "metadata": {
        "id": "54a225ea"
      },
      "outputs": [],
      "source": [
        "pessoa1 = pessoa2 = pessoa3"
      ]
    },
    {
      "cell_type": "code",
      "execution_count": null,
      "id": "9efaf80e",
      "metadata": {
        "id": "9efaf80e",
        "outputId": "2a4090c5-99b7-415c-a4e3-a55ad113e850"
      },
      "outputs": [
        {
          "data": {
            "text/plain": [
              "'Rafael'"
            ]
          },
          "execution_count": 7,
          "metadata": {},
          "output_type": "execute_result"
        }
      ],
      "source": [
        "pessoa1"
      ]
    },
    {
      "cell_type": "code",
      "execution_count": null,
      "id": "d5bd3fb4",
      "metadata": {
        "id": "d5bd3fb4"
      },
      "outputs": [],
      "source": [
        "# Fique atento!!! Python é case-sensitive. Criamos a variável pessoa1, mas não a variável Pessoa1.\n",
        "# Letras maiúsculas e minúsculas tem diferença no nome da variável."
      ]
    },
    {
      "cell_type": "markdown",
      "id": "22623066",
      "metadata": {
        "id": "22623066"
      },
      "source": [
        "<div style=\"text-align: center\"> <h2>Modo script</h2> </div>"
      ]
    },
    {
      "cell_type": "code",
      "execution_count": null,
      "id": "d0c6afb9",
      "metadata": {
        "id": "d0c6afb9",
        "outputId": "0bd94c36-32aa-45f6-fe01-9a95b5c45c5c"
      },
      "outputs": [
        {
          "data": {
            "text/plain": [
              "6"
            ]
          },
          "execution_count": 12,
          "metadata": {},
          "output_type": "execute_result"
        }
      ],
      "source": [
        "5\n",
        "x= 5\n",
        "x + 1"
      ]
    },
    {
      "cell_type": "markdown",
      "id": "df52c479",
      "metadata": {
        "id": "df52c479"
      },
      "source": [
        "<div style=\"text-align: left\">\n",
        "No script não recebe nenhuma saída. Uma expressão, por conta própria, não tem efeito visível no modo script. O Python,\n",
        "na verdade, avalia a expressão, mas não exibe o valor a menos que você especifique:.</div>"
      ]
    },
    {
      "cell_type": "code",
      "execution_count": null,
      "id": "a7013ad2",
      "metadata": {
        "id": "a7013ad2",
        "outputId": "9cce42a5-54ec-4ca3-bf1d-0d04c237a307"
      },
      "outputs": [
        {
          "name": "stdout",
          "output_type": "stream",
          "text": [
            "x + 1\n"
          ]
        }
      ],
      "source": [
        "x = 5\n",
        "print('x + 1')"
      ]
    },
    {
      "cell_type": "markdown",
      "id": "0e2a114b",
      "metadata": {
        "id": "0e2a114b"
      },
      "source": [
        "<div style=\"text-align: center\"> <h2>Ordem das Operações</h2> </div>"
      ]
    },
    {
      "cell_type": "markdown",
      "id": "d097fb0c",
      "metadata": {
        "id": "d097fb0c"
      },
      "source": [
        "<div style=\"text-align: left\"><p>\n",
        "Para operadores matemáticos, o Python segue a convenção\n",
        "matemática. O acrônimo PEMDAS (Parênteses, Exponenciação, Multiplicação e Divisão, Adição e Subtração) pode ser útil para lembrar das regras:<br> Os operadores com a mesma precedência são avaliados da esquerda para a direita\n",
        "(exceto na exponenciação). Assim, na expressão degrees / 2 * pi, a divisão\n",
        "acontece primeiro e o resultado é multiplicado por pi. Para dividir por 2π, você pode\n",
        "    usar parênteses ou escrever degrees / 2 / pi.</p></div>"
      ]
    },
    {
      "cell_type": "code",
      "execution_count": null,
      "id": "433a6189",
      "metadata": {
        "id": "433a6189",
        "outputId": "24d728c5-f181-4844-e466-1f62b907a37e"
      },
      "outputs": [
        {
          "data": {
            "text/plain": [
              "4"
            ]
          },
          "execution_count": 14,
          "metadata": {},
          "output_type": "execute_result"
        }
      ],
      "source": [
        "2*(3-1)"
      ]
    },
    {
      "cell_type": "code",
      "execution_count": null,
      "id": "f431ead6",
      "metadata": {
        "id": "f431ead6",
        "outputId": "157f651e-3449-4bd2-fd4c-45dbc2005859"
      },
      "outputs": [
        {
          "data": {
            "text/plain": [
              "4.0"
            ]
          },
          "execution_count": 15,
          "metadata": {},
          "output_type": "execute_result"
        }
      ],
      "source": [
        "2/2*4"
      ]
    },
    {
      "cell_type": "markdown",
      "id": "5bc35aa2",
      "metadata": {
        "id": "5bc35aa2"
      },
      "source": [
        "<div style=\"text-align: center\"> <h2>Operações com strings</h2> </div>"
      ]
    },
    {
      "cell_type": "markdown",
      "id": "907e320e",
      "metadata": {
        "id": "907e320e"
      },
      "source": [
        "<div style=\"text-align: left\"><p>\n",
        "Em geral não é possível executar operação matemáticas com strings, exceto em casos de + e *. Onde + executa uma concatenação de strings</p></div>"
      ]
    },
    {
      "cell_type": "code",
      "execution_count": null,
      "id": "efc72853",
      "metadata": {
        "id": "efc72853"
      },
      "outputs": [],
      "source": [
        "primeiro = 'o'"
      ]
    },
    {
      "cell_type": "code",
      "execution_count": null,
      "id": "cd49e9e6",
      "metadata": {
        "id": "cd49e9e6"
      },
      "outputs": [],
      "source": [
        "segundo = 'i'"
      ]
    },
    {
      "cell_type": "code",
      "execution_count": null,
      "id": "bf86f883",
      "metadata": {
        "id": "bf86f883",
        "outputId": "85b0a064-fdf4-4e8c-a159-9a1c63009f65"
      },
      "outputs": [
        {
          "data": {
            "text/plain": [
              "'oi'"
            ]
          },
          "execution_count": 21,
          "metadata": {},
          "output_type": "execute_result"
        }
      ],
      "source": [
        "primeiro + segundo"
      ]
    },
    {
      "cell_type": "markdown",
      "id": "e5a69b43",
      "metadata": {
        "id": "e5a69b43"
      },
      "source": [
        "<div style=\"text-align: left\"><p>\n",
        "O operador * executa repetição</p></div>"
      ]
    },
    {
      "cell_type": "code",
      "execution_count": null,
      "id": "5157be64",
      "metadata": {
        "id": "5157be64",
        "outputId": "a03a7679-e8db-44a6-d319-9da08f658efc"
      },
      "outputs": [
        {
          "data": {
            "text/plain": [
              "'repetirrepetirrepetir'"
            ]
          },
          "execution_count": 22,
          "metadata": {},
          "output_type": "execute_result"
        }
      ],
      "source": [
        "'repetir'*3"
      ]
    },
    {
      "cell_type": "markdown",
      "id": "e45f928d",
      "metadata": {
        "id": "e45f928d"
      },
      "source": [
        "<div style=\"text-align: center\"> <h2>Comentários</h2> </div>"
      ]
    },
    {
      "cell_type": "code",
      "execution_count": null,
      "id": "94a875d9",
      "metadata": {
        "id": "94a875d9"
      },
      "outputs": [],
      "source": [
        "#Assim eu posso fazer comentários para entender em qual parte do programa eu estou"
      ]
    },
    {
      "cell_type": "code",
      "execution_count": null,
      "id": "b1ca8651",
      "metadata": {
        "id": "b1ca8651"
      },
      "outputs": [],
      "source": [
        "s = 5 #metros"
      ]
    },
    {
      "cell_type": "markdown",
      "id": "2438b5f6",
      "metadata": {
        "id": "2438b5f6"
      },
      "source": [
        "<div style=\"text-align: center\"> <h2>Depuração</h2> </div>"
      ]
    },
    {
      "cell_type": "markdown",
      "id": "ee2c73d6",
      "metadata": {
        "id": "ee2c73d6"
      },
      "source": [
        "<div style=\"text-align: left\"><p>\n",
        "Há três tipos de erros que podem ocorrer em um programa: \n",
        "<br><br>Erro de sintaxe<br>\n",
        "A “sintaxe” refere-se à estrutura de um programa e suas respectivas regras. Por\n",
        "exemplo, os parênteses devem vir em pares correspondentes, então (1 + 2) é legal,\n",
        "mas 8) é um erro de sintaxe.\n",
        "Se houver um erro de sintaxe em algum lugar no seu programa, o Python exibe uma\n",
        "mensagem de erro e para, e não será possível executar o programa. \n",
        "<br><br>Erro de tempo de execução<br>\n",
        "O segundo tipo de erro é o erro de tempo de execução, assim chamado porque o erro\n",
        "não aparece até que o programa seja executado. Esses erros também se chamam de\n",
        "exceções porque normalmente indicam que algo excepcional (e ruim) aconteceu.\n",
        "       </p></div>"
      ]
    },
    {
      "cell_type": "markdown",
      "id": "5c4007dc",
      "metadata": {
        "id": "5c4007dc"
      },
      "source": [
        "Erro semântico\n",
        "\n",
        "O terceiro tipo do erro é “semântico”, ou seja, relacionado ao significado. Se houver\n",
        "um erro semântico no seu programa, ele será executado sem gerar mensagens de erro,\n",
        "mas não vai fazer a coisa certa. Vai fazer algo diferente. Especificamente, vai fazer o\n",
        "que você disser para fazer."
      ]
    }
  ],
  "metadata": {
    "celltoolbar": "Slideshow",
    "kernelspec": {
      "display_name": "Python 3 (ipykernel)",
      "language": "python",
      "name": "python3"
    },
    "language_info": {
      "codemirror_mode": {
        "name": "ipython",
        "version": 3
      },
      "file_extension": ".py",
      "mimetype": "text/x-python",
      "name": "python",
      "nbconvert_exporter": "python",
      "pygments_lexer": "ipython3",
      "version": "3.10.5"
    },
    "colab": {
      "provenance": [],
      "include_colab_link": true
    }
  },
  "nbformat": 4,
  "nbformat_minor": 5
}